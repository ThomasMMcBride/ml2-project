{
 "cells": [
  {
   "cell_type": "code",
   "execution_count": 2,
   "id": "bdd32ce8-e1de-4e23-8f7c-4c279254b6bf",
   "metadata": {},
   "outputs": [],
   "source": [
    "import pandas as pd"
   ]
  },
  {
   "cell_type": "code",
   "execution_count": 3,
   "id": "bbb5cb8b-e2bb-47ab-8820-e292fd9d0a2f",
   "metadata": {},
   "outputs": [
    {
     "name": "stdout",
     "output_type": "stream",
     "text": [
      "Number of initial feature columns: 9\n",
      "Number of initial observations: 3101\n",
      "Number of feature columns after cleaning: 69\n",
      "Number of observations after cleaning: 1182\n"
     ]
    }
   ],
   "source": [
    "# Read in data\n",
    "layoffs_df = pd.read_csv('layoffs.csv')\n",
    "\n",
    "# Observe the initial dataframe dimensions\n",
    "print(f\"Number of initial feature columns: {len(layoffs_df.columns)}\")\n",
    "print(f\"Number of initial observations: {len(layoffs_df)}\")\n",
    "\n",
    "# Convert data to the correct datatypes\n",
    "layoffs_df['company']  = layoffs_df['company'].astype('string')\n",
    "layoffs_df['location']  = layoffs_df['location'].astype('string')\n",
    "layoffs_df['industry'] = layoffs_df['industry'].astype('string')\n",
    "layoffs_df['date'] = pd.to_datetime(layoffs_df['date'])\n",
    "layoffs_df['stage'] = layoffs_df['stage'].astype('string')\n",
    "layoffs_df['country'] = layoffs_df['country'].astype('string')\n",
    "\n",
    "# Remove observations with at least one feature missing, or with unknown stage\n",
    "layoffs_df = layoffs_df[layoffs_df['stage'] != 'Unknown']\n",
    "# Also removing location (implicity covered by \"country\")\n",
    "layoffs_df = layoffs_df.drop('location', axis=1)\n",
    "# Also removing the names of companies (should not be important for our analysis)\n",
    "layoffs_df = layoffs_df.drop('company', axis=1)\n",
    "\n",
    "layoffs_df = layoffs_df.dropna()\n",
    "\n",
    "# Chunking dates into quarters\n",
    "# Compute the number of months since the minimum year and month\n",
    "years = layoffs_df['date'].dt.year\n",
    "months = layoffs_df['date'].dt.month\n",
    "\n",
    "min_date = layoffs_df['date'].min()\n",
    "chunks = (years - min_date.year) * 12 + (months - min_date.month)\n",
    "\n",
    "# Add the chunk column if needed\n",
    "layoffs_df['date'] = chunks\n",
    "\n",
    "# Chunking stages\n",
    "mapping = {\n",
    "    'Seed': 'Early Stage',\n",
    "    'Series A': 'Early Stage',\n",
    "    'Series B': 'Growth Stage',\n",
    "    'Series C': 'Growth Stage',\n",
    "    'Series D': 'Growth Stage',\n",
    "    'Series E': 'Growth Stage',\n",
    "    'Series F': 'Growth Stage',\n",
    "    'Series G': 'Growth Stage',\n",
    "    'Series H': 'Growth Stage',\n",
    "    'Series I': 'Growth Stage',\n",
    "    'Series J': 'Growth Stage',\n",
    "    'Post-IPO': 'Post-IPO',\n",
    "    'Private Equity': 'Post-IPO',\n",
    "    'Acquired': 'Acquired / Subsidiary',\n",
    "    'Subsidiary': 'Acquired / Subsidiary',\n",
    "}\n",
    "layoffs_df['stage'] = layoffs_df['stage'].map(lambda stage: mapping.get(stage))\n",
    "\n",
    "# One-hot encoding\n",
    "layoffs_df = pd.get_dummies(layoffs_df, drop_first=True, dtype = int)\n",
    "\n",
    "# Observe the new dataframe dimensions\n",
    "print(f\"Number of feature columns after cleaning: {len(layoffs_df.columns)}\")\n",
    "print(f\"Number of observations after cleaning: {len(layoffs_df)}\")\n",
    "\n",
    "\n",
    "\n",
    "layoffs_df.to_csv('cleaned_layoffs.csv', index=False)"
   ]
  },
  {
   "cell_type": "code",
   "execution_count": null,
   "id": "14d59584-cffc-4929-aff8-0e4a91a56869",
   "metadata": {},
   "outputs": [],
   "source": []
  }
 ],
 "metadata": {
  "kernelspec": {
   "display_name": "Python 3 (ipykernel)",
   "language": "python",
   "name": "python3"
  },
  "language_info": {
   "codemirror_mode": {
    "name": "ipython",
    "version": 3
   },
   "file_extension": ".py",
   "mimetype": "text/x-python",
   "name": "python",
   "nbconvert_exporter": "python",
   "pygments_lexer": "ipython3",
   "version": "3.12.7"
  }
 },
 "nbformat": 4,
 "nbformat_minor": 5
}
